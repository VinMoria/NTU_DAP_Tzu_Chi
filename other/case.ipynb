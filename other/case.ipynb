{
 "cells": [
  {
   "cell_type": "code",
   "execution_count": 3,
   "id": "ec335d5c",
   "metadata": {},
   "outputs": [
    {
     "name": "stdout",
     "output_type": "stream",
     "text": [
      "Case Profile\n",
      "Physical illness required special care\n",
      "Single Parent\n",
      "Renal Patient\n",
      "Foreign Spouse\n",
      "Mental Health Issue\n",
      "and intellectual disabilities and autism)\n",
      "Schooling Children\n",
      "Aging Family\n",
      "Disability  (physical\n",
      "sensory\n",
      "Living Alone Elderly\n"
     ]
    }
   ],
   "source": [
    "import csv\n",
    "\n",
    "# 打开CSV文件\n",
    "with open('case.csv', mode='r', newline='', encoding='utf-8') as csvfile:\n",
    "    # 创建CSV阅读器\n",
    "    csvreader = csv.reader(csvfile)\n",
    "\n",
    "    # 初始化一个空的集合来存储跨所有行的字符串\n",
    "    all_set = set()\n",
    "\n",
    "    # 遍历每一行\n",
    "    for row in csvreader:\n",
    "        # 删除所有的\"?\"字符\n",
    "        cleaned_row = [s.replace('?', '') for s in row]\n",
    "        # 对每一行进行字符处理\n",
    "        processed_row = [s.strip() for s in cleaned_row]  # 去除每个字段的前后空格\n",
    "        # 将处理后的字符串按\",\"分隔并添加到全局集合中\n",
    "        all_set.update({item.strip() for s in processed_row for item in s.split(',')})\n",
    "\n",
    "    # 打印全局集合\n",
    "    all_list = list(all_set)\n",
    "    for i in all_list:\n",
    "        print(i)"
   ]
  }
 ],
 "metadata": {
  "kernelspec": {
   "display_name": "Python 3",
   "language": "python",
   "name": "python3"
  },
  "language_info": {
   "codemirror_mode": {
    "name": "ipython",
    "version": 3
   },
   "file_extension": ".py",
   "mimetype": "text/x-python",
   "name": "python",
   "nbconvert_exporter": "python",
   "pygments_lexer": "ipython3",
   "version": "3.13.0"
  }
 },
 "nbformat": 4,
 "nbformat_minor": 5
}
