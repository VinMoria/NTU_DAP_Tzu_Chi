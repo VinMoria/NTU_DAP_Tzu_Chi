{
 "cells": [
  {
   "cell_type": "code",
   "execution_count": 2,
   "id": "a815383a",
   "metadata": {},
   "outputs": [
    {
     "name": "stdout",
     "output_type": "stream",
     "text": [
      "61\n"
     ]
    }
   ],
   "source": [
    "import pandas as pd\n",
    "\n",
    "df = pd.read_csv(\"./data/Cleaned_Data_0506.csv\")\n",
    "\n",
    "df.head()\n",
    "\n",
    "df[\"amount_total\"].describe()\n",
    "\n",
    "# ... 之前的代码 ...\n",
    "\n",
    "# 计算 \"amount_total\" 列中小于10的数量\n",
    "count_less_than_10 = df[df[\"amount_total\"] == 0].shape[0]\n",
    "print(count_less_than_10)\n",
    "\n",
    "# ... 之后的代码 ..."
   ]
  }
 ],
 "metadata": {
  "kernelspec": {
   "display_name": "Python 3",
   "language": "python",
   "name": "python3"
  },
  "language_info": {
   "codemirror_mode": {
    "name": "ipython",
    "version": 3
   },
   "file_extension": ".py",
   "mimetype": "text/x-python",
   "name": "python",
   "nbconvert_exporter": "python",
   "pygments_lexer": "ipython3",
   "version": "3.13.0"
  }
 },
 "nbformat": 4,
 "nbformat_minor": 5
}
