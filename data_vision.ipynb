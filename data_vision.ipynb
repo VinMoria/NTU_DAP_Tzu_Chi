{
 "cells": [
  {
   "cell_type": "code",
   "execution_count": 2,
   "id": "a815383a",
   "metadata": {},
   "outputs": [
    {
     "data": {
      "text/plain": [
       "count     945.000000\n",
       "mean      794.917619\n",
       "std       710.003624\n",
       "min         0.000000\n",
       "25%       200.000000\n",
       "50%       640.900000\n",
       "75%      1260.000000\n",
       "max      7287.730000\n",
       "Name: amount_total, dtype: float64"
      ]
     },
     "execution_count": 2,
     "metadata": {},
     "output_type": "execute_result"
    }
   ],
   "source": [
    "import pandas as pd\n",
    "\n",
    "df = pd.read_csv(\"./data/Cleaned_Data_0506.csv\")\n",
    "\n",
    "df.head()\n",
    "\n",
    "df[\"amount_total\"].describe()"
   ]
  }
 ],
 "metadata": {
  "kernelspec": {
   "display_name": "Python 3",
   "language": "python",
   "name": "python3"
  },
  "language_info": {
   "codemirror_mode": {
    "name": "ipython",
    "version": 3
   },
   "file_extension": ".py",
   "mimetype": "text/x-python",
   "name": "python",
   "nbconvert_exporter": "python",
   "pygments_lexer": "ipython3",
   "version": "3.13.0"
  }
 },
 "nbformat": 4,
 "nbformat_minor": 5
}
